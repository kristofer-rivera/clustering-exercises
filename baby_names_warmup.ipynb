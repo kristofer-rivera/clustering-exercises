{
 "cells": [
  {
   "cell_type": "markdown",
   "id": "491db769",
   "metadata": {},
   "source": [
    "# Baby Names\n",
    "\n",
    "This dataset contains information on how many babies were born with each name. Both the raw number and proportion of births for the year are included."
   ]
  },
  {
   "cell_type": "code",
   "execution_count": 1,
   "id": "e8a5856f",
   "metadata": {},
   "outputs": [
    {
     "data": {
      "text/html": [
       "<div>\n",
       "<style scoped>\n",
       "    .dataframe tbody tr th:only-of-type {\n",
       "        vertical-align: middle;\n",
       "    }\n",
       "\n",
       "    .dataframe tbody tr th {\n",
       "        vertical-align: top;\n",
       "    }\n",
       "\n",
       "    .dataframe thead th {\n",
       "        text-align: right;\n",
       "    }\n",
       "</style>\n",
       "<table border=\"1\" class=\"dataframe\">\n",
       "  <thead>\n",
       "    <tr style=\"text-align: right;\">\n",
       "      <th></th>\n",
       "      <th>year</th>\n",
       "      <th>sex</th>\n",
       "      <th>name</th>\n",
       "      <th>n</th>\n",
       "      <th>prop</th>\n",
       "    </tr>\n",
       "  </thead>\n",
       "  <tbody>\n",
       "    <tr>\n",
       "      <th>0</th>\n",
       "      <td>1880</td>\n",
       "      <td>F</td>\n",
       "      <td>Mary</td>\n",
       "      <td>7065</td>\n",
       "      <td>0.072384</td>\n",
       "    </tr>\n",
       "    <tr>\n",
       "      <th>1</th>\n",
       "      <td>1880</td>\n",
       "      <td>F</td>\n",
       "      <td>Anna</td>\n",
       "      <td>2604</td>\n",
       "      <td>0.026679</td>\n",
       "    </tr>\n",
       "    <tr>\n",
       "      <th>2</th>\n",
       "      <td>1880</td>\n",
       "      <td>F</td>\n",
       "      <td>Emma</td>\n",
       "      <td>2003</td>\n",
       "      <td>0.020521</td>\n",
       "    </tr>\n",
       "    <tr>\n",
       "      <th>3</th>\n",
       "      <td>1880</td>\n",
       "      <td>F</td>\n",
       "      <td>Elizabeth</td>\n",
       "      <td>1939</td>\n",
       "      <td>0.019866</td>\n",
       "    </tr>\n",
       "    <tr>\n",
       "      <th>4</th>\n",
       "      <td>1880</td>\n",
       "      <td>F</td>\n",
       "      <td>Minnie</td>\n",
       "      <td>1746</td>\n",
       "      <td>0.017888</td>\n",
       "    </tr>\n",
       "  </tbody>\n",
       "</table>\n",
       "</div>"
      ],
      "text/plain": [
       "   year sex       name     n      prop\n",
       "0  1880   F       Mary  7065  0.072384\n",
       "1  1880   F       Anna  2604  0.026679\n",
       "2  1880   F       Emma  2003  0.020521\n",
       "3  1880   F  Elizabeth  1939  0.019866\n",
       "4  1880   F     Minnie  1746  0.017888"
      ]
     },
     "execution_count": 1,
     "metadata": {},
     "output_type": "execute_result"
    }
   ],
   "source": [
    "import matplotlib.pyplot as plt\n",
    "import seaborn as sns\n",
    "import numpy as np\n",
    "import pandas as pd\n",
    "\n",
    "url = 'https://raw.githubusercontent.com/zgulde/tidytuesday/master/data/2022/2022-03-22/babynames.csv'\n",
    "df = pd.read_csv(url)\n",
    "df.head()"
   ]
  },
  {
   "cell_type": "markdown",
   "id": "0b8fa8e9",
   "metadata": {},
   "source": [
    "- What were the 10 most popular names the year you were born?\n",
    "- What year was your name the most popular?\n",
    "- Where does your name rank for the year that you were born?\n",
    "- Does your name increase or decrease in popularity compared to the year after the year you were born? The year before? What about 5 years before/after?\n",
    "- Visualize your name's popularity over time."
   ]
  },
  {
   "cell_type": "code",
   "execution_count": 79,
   "id": "43b97d59",
   "metadata": {},
   "outputs": [
    {
     "data": {
      "text/html": [
       "<div>\n",
       "<style scoped>\n",
       "    .dataframe tbody tr th:only-of-type {\n",
       "        vertical-align: middle;\n",
       "    }\n",
       "\n",
       "    .dataframe tbody tr th {\n",
       "        vertical-align: top;\n",
       "    }\n",
       "\n",
       "    .dataframe thead th {\n",
       "        text-align: right;\n",
       "    }\n",
       "</style>\n",
       "<table border=\"1\" class=\"dataframe\">\n",
       "  <thead>\n",
       "    <tr style=\"text-align: right;\">\n",
       "      <th></th>\n",
       "      <th>name</th>\n",
       "      <th>n</th>\n",
       "    </tr>\n",
       "  </thead>\n",
       "  <tbody>\n",
       "    <tr>\n",
       "      <th>1160660</th>\n",
       "      <td>Nicholas</td>\n",
       "      <td>28105</td>\n",
       "    </tr>\n",
       "    <tr>\n",
       "      <th>1160659</th>\n",
       "      <td>Daniel</td>\n",
       "      <td>28682</td>\n",
       "    </tr>\n",
       "    <tr>\n",
       "      <th>1160658</th>\n",
       "      <td>Brandon</td>\n",
       "      <td>28732</td>\n",
       "    </tr>\n",
       "    <tr>\n",
       "      <th>1160657</th>\n",
       "      <td>Tyler</td>\n",
       "      <td>29796</td>\n",
       "    </tr>\n",
       "    <tr>\n",
       "      <th>1160656</th>\n",
       "      <td>Joshua</td>\n",
       "      <td>33578</td>\n",
       "    </tr>\n",
       "    <tr>\n",
       "      <th>1144857</th>\n",
       "      <td>Ashley</td>\n",
       "      <td>34850</td>\n",
       "    </tr>\n",
       "    <tr>\n",
       "      <th>1144856</th>\n",
       "      <td>Jessica</td>\n",
       "      <td>34988</td>\n",
       "    </tr>\n",
       "    <tr>\n",
       "      <th>1160655</th>\n",
       "      <td>Matthew</td>\n",
       "      <td>35769</td>\n",
       "    </tr>\n",
       "    <tr>\n",
       "      <th>1160654</th>\n",
       "      <td>Christopher</td>\n",
       "      <td>38228</td>\n",
       "    </tr>\n",
       "    <tr>\n",
       "      <th>1160653</th>\n",
       "      <td>Michael</td>\n",
       "      <td>49550</td>\n",
       "    </tr>\n",
       "  </tbody>\n",
       "</table>\n",
       "</div>"
      ],
      "text/plain": [
       "                name      n\n",
       "1160660     Nicholas  28105\n",
       "1160659       Daniel  28682\n",
       "1160658      Brandon  28732\n",
       "1160657        Tyler  29796\n",
       "1160656       Joshua  33578\n",
       "1144857       Ashley  34850\n",
       "1144856      Jessica  34988\n",
       "1160655      Matthew  35769\n",
       "1160654  Christopher  38228\n",
       "1160653      Michael  49550"
      ]
     },
     "execution_count": 79,
     "metadata": {},
     "output_type": "execute_result"
    }
   ],
   "source": [
    "# Question 1\n",
    "df.loc[df.year == 1993, ['name', 'n']].sort_values(by='n').tail(10)"
   ]
  },
  {
   "cell_type": "code",
   "execution_count": 78,
   "id": "13bee051",
   "metadata": {},
   "outputs": [
    {
     "data": {
      "text/plain": [
       "year\n",
       "1978    349\n",
       "Name: n, dtype: int64"
      ]
     },
     "execution_count": 78,
     "metadata": {},
     "output_type": "execute_result"
    }
   ],
   "source": [
    "# Question 2\n",
    "df[df['name'] == 'Kristofer'].groupby('year').n.sum().sort_values().tail(1)"
   ]
  },
  {
   "cell_type": "code",
   "execution_count": 75,
   "id": "9233c4e2",
   "metadata": {},
   "outputs": [
    {
     "data": {
      "text/html": [
       "<div>\n",
       "<style scoped>\n",
       "    .dataframe tbody tr th:only-of-type {\n",
       "        vertical-align: middle;\n",
       "    }\n",
       "\n",
       "    .dataframe tbody tr th {\n",
       "        vertical-align: top;\n",
       "    }\n",
       "\n",
       "    .dataframe thead th {\n",
       "        text-align: right;\n",
       "    }\n",
       "</style>\n",
       "<table border=\"1\" class=\"dataframe\">\n",
       "  <thead>\n",
       "    <tr style=\"text-align: right;\">\n",
       "      <th></th>\n",
       "      <th>year</th>\n",
       "      <th>sex</th>\n",
       "      <th>name</th>\n",
       "      <th>n</th>\n",
       "      <th>prop</th>\n",
       "      <th>rank</th>\n",
       "    </tr>\n",
       "  </thead>\n",
       "  <tbody>\n",
       "    <tr>\n",
       "      <th>1161234</th>\n",
       "      <td>1993</td>\n",
       "      <td>M</td>\n",
       "      <td>Kristofer</td>\n",
       "      <td>313</td>\n",
       "      <td>0.000152</td>\n",
       "      <td>1272.5</td>\n",
       "    </tr>\n",
       "  </tbody>\n",
       "</table>\n",
       "</div>"
      ],
      "text/plain": [
       "         year sex       name    n      prop    rank\n",
       "1161234  1993   M  Kristofer  313  0.000152  1272.5"
      ]
     },
     "execution_count": 75,
     "metadata": {},
     "output_type": "execute_result"
    }
   ],
   "source": [
    "# Question 3\n",
    "year_1993 = df[df.year == 1993].copy()\n",
    "year_1993['rank'] = year_1993.n.rank(ascending=False)\n",
    "year_1993[year_1993.name == 'Kristofer']"
   ]
  },
  {
   "cell_type": "code",
   "execution_count": 86,
   "id": "616fb6e2",
   "metadata": {},
   "outputs": [
    {
     "data": {
      "text/plain": [
       "(1987.0, 1998.0)"
      ]
     },
     "execution_count": 86,
     "metadata": {},
     "output_type": "execute_result"
    },
    {
     "data": {
      "image/png": "[encoded data removed]",
      "text/plain": [
       "<Figure size 936x504 with 1 Axes>"
      ]
     },
     "metadata": {
      "needs_background": "light"
     },
     "output_type": "display_data"
    }
   ],
   "source": [
    "# Question 4\n",
    "subset = df[df['name'] == 'Kristofer']\n",
    "plt.figure(figsize=(13, 7))\n",
    "plt.plot(subset.year, subset.n)\n",
    "plt.xlabel('Year')\n",
    "plt.ylabel('# of Births')\n",
    "plt.title('Popularity of the name Kristofer over time')\n",
    "plt.xlim(1987, 1998)"
   ]
  },
  {
   "cell_type": "code",
   "execution_count": 85,
   "id": "3ad57de3",
   "metadata": {},
   "outputs": [
    {
     "data": {
      "text/plain": [
       "(1960.0, 2020.0)"
      ]
     },
     "execution_count": 85,
     "metadata": {},
     "output_type": "execute_result"
    },
    {
     "data": {
      "image/png": "[encoded data removed]",
      "text/plain": [
       "<Figure size 936x504 with 1 Axes>"
      ]
     },
     "metadata": {
      "needs_background": "light"
     },
     "output_type": "display_data"
    }
   ],
   "source": [
    "# Question 5\n",
    "subset = df[df['name'] == 'Kristofer']\n",
    "plt.figure(figsize=(13, 7))\n",
    "plt.plot(subset.year, subset.n)\n",
    "plt.xlabel('Year')\n",
    "plt.ylabel('# of Births')\n",
    "plt.title('Popularity of the name Kristofer over time')\n",
    "plt.xlim(1960, 2020)"
   ]
  }
 ],
 "metadata": {
  "kernelspec": {
   "display_name": "Python 3 (ipykernel)",
   "language": "python",
   "name": "python3"
  },
  "language_info": {
   "codemirror_mode": {
    "name": "ipython",
    "version": 3
   },
   "file_extension": ".py",
   "mimetype": "text/x-python",
   "name": "python",
   "nbconvert_exporter": "python",
   "pygments_lexer": "ipython3",
   "version": "3.9.7"
  }
 },
 "nbformat": 4,
 "nbformat_minor": 5
}
