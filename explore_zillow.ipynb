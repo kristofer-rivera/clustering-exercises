{
 "cells": [
  {
   "cell_type": "code",
   "execution_count": 13,
   "id": "61276aab",
   "metadata": {},
   "outputs": [],
   "source": [
    "#Ignore warnings\n",
    "import warnings\n",
    "warnings.filterwarnings(\"ignore\")\n",
    "\n",
    "# Imports for arithmetic calculations and data frame manipulation\n",
    "import math\n",
    "import numpy as np\n",
    "import pandas as pd\n",
    "\n",
    "#imports for splitting data and imputing\n",
    "from sklearn.model_selection import train_test_split\n",
    "from sklearn.impute import SimpleImputer\n",
    "\n",
    "#Imports for statistical test\n",
    "import scipy.stats as stats\n",
    "\n",
    "#Imports for creating visualizations\n",
    "import matplotlib.pyplot as plt \n",
    "import seaborn as sns\n",
    "\n",
    "#importying .py files for user defined functions\n",
    "import wrangle_zillow as w"
   ]
  },
  {
   "cell_type": "markdown",
   "id": "2291aabd",
   "metadata": {},
   "source": [
    "## Acquire Wrangled Data"
   ]
  },
  {
   "cell_type": "code",
   "execution_count": 3,
   "id": "d8a888ea",
   "metadata": {},
   "outputs": [
    {
     "name": "stdout",
     "output_type": "stream",
     "text": [
      "Using cached csv...\n"
     ]
    },
    {
     "data": {
      "text/plain": [
       "((40064, 34), (17171, 34), (14309, 34))"
      ]
     },
     "execution_count": 3,
     "metadata": {},
     "output_type": "execute_result"
    }
   ],
   "source": [
    "train, validate, test = w.wrangle_zillow()\n",
    "train.shape, validate.shape, test.shape"
   ]
  },
  {
   "cell_type": "code",
   "execution_count": 4,
   "id": "bd4f7387",
   "metadata": {},
   "outputs": [
    {
     "data": {
      "text/html": [
       "<div>\n",
       "<style scoped>\n",
       "    .dataframe tbody tr th:only-of-type {\n",
       "        vertical-align: middle;\n",
       "    }\n",
       "\n",
       "    .dataframe tbody tr th {\n",
       "        vertical-align: top;\n",
       "    }\n",
       "\n",
       "    .dataframe thead th {\n",
       "        text-align: right;\n",
       "    }\n",
       "</style>\n",
       "<table border=\"1\" class=\"dataframe\">\n",
       "  <thead>\n",
       "    <tr style=\"text-align: right;\">\n",
       "      <th></th>\n",
       "      <th>id</th>\n",
       "      <th>parcelid</th>\n",
       "      <th>bathroomcnt</th>\n",
       "      <th>bedroomcnt</th>\n",
       "      <th>buildingqualitytypeid</th>\n",
       "      <th>calculatedbathnbr</th>\n",
       "      <th>calculatedfinishedsquarefeet</th>\n",
       "      <th>finishedsquarefeet12</th>\n",
       "      <th>fips</th>\n",
       "      <th>fullbathcnt</th>\n",
       "      <th>...</th>\n",
       "      <th>structuretaxvaluedollarcnt</th>\n",
       "      <th>taxvaluedollarcnt</th>\n",
       "      <th>assessmentyear</th>\n",
       "      <th>landtaxvaluedollarcnt</th>\n",
       "      <th>taxamount</th>\n",
       "      <th>censustractandblock</th>\n",
       "      <th>logerror</th>\n",
       "      <th>transactiondate</th>\n",
       "      <th>heatingorsystemdesc</th>\n",
       "      <th>propertylandusedesc</th>\n",
       "    </tr>\n",
       "  </thead>\n",
       "  <tbody>\n",
       "    <tr>\n",
       "      <th>62924</th>\n",
       "      <td>2806823</td>\n",
       "      <td>11317340</td>\n",
       "      <td>2.0</td>\n",
       "      <td>4.0</td>\n",
       "      <td>6.0</td>\n",
       "      <td>2.0</td>\n",
       "      <td>1860.0</td>\n",
       "      <td>1860.0</td>\n",
       "      <td>6037.0</td>\n",
       "      <td>2.0</td>\n",
       "      <td>...</td>\n",
       "      <td>127127.0</td>\n",
       "      <td>157578.0</td>\n",
       "      <td>2016.0</td>\n",
       "      <td>30451.0</td>\n",
       "      <td>2755.87</td>\n",
       "      <td>6.037901e+13</td>\n",
       "      <td>0.030870</td>\n",
       "      <td>2017-08-01</td>\n",
       "      <td>Central</td>\n",
       "      <td>Single Family Residential</td>\n",
       "    </tr>\n",
       "    <tr>\n",
       "      <th>2686</th>\n",
       "      <td>2192094</td>\n",
       "      <td>12965175</td>\n",
       "      <td>4.0</td>\n",
       "      <td>3.0</td>\n",
       "      <td>8.0</td>\n",
       "      <td>4.0</td>\n",
       "      <td>1910.0</td>\n",
       "      <td>1910.0</td>\n",
       "      <td>6037.0</td>\n",
       "      <td>4.0</td>\n",
       "      <td>...</td>\n",
       "      <td>253705.0</td>\n",
       "      <td>667918.0</td>\n",
       "      <td>2016.0</td>\n",
       "      <td>414213.0</td>\n",
       "      <td>8704.21</td>\n",
       "      <td>6.037621e+13</td>\n",
       "      <td>0.021421</td>\n",
       "      <td>2017-01-12</td>\n",
       "      <td>Central</td>\n",
       "      <td>Condominium</td>\n",
       "    </tr>\n",
       "    <tr>\n",
       "      <th>35780</th>\n",
       "      <td>64334</td>\n",
       "      <td>11703478</td>\n",
       "      <td>1.0</td>\n",
       "      <td>3.0</td>\n",
       "      <td>6.0</td>\n",
       "      <td>1.0</td>\n",
       "      <td>1822.0</td>\n",
       "      <td>1822.0</td>\n",
       "      <td>6037.0</td>\n",
       "      <td>1.0</td>\n",
       "      <td>...</td>\n",
       "      <td>17787.0</td>\n",
       "      <td>40542.0</td>\n",
       "      <td>2016.0</td>\n",
       "      <td>22755.0</td>\n",
       "      <td>627.91</td>\n",
       "      <td>6.037232e+13</td>\n",
       "      <td>-0.325563</td>\n",
       "      <td>2017-05-12</td>\n",
       "      <td>Central</td>\n",
       "      <td>Single Family Residential</td>\n",
       "    </tr>\n",
       "    <tr>\n",
       "      <th>14782</th>\n",
       "      <td>1744938</td>\n",
       "      <td>10931831</td>\n",
       "      <td>3.0</td>\n",
       "      <td>2.0</td>\n",
       "      <td>8.0</td>\n",
       "      <td>3.0</td>\n",
       "      <td>1480.0</td>\n",
       "      <td>1480.0</td>\n",
       "      <td>6037.0</td>\n",
       "      <td>3.0</td>\n",
       "      <td>...</td>\n",
       "      <td>200660.0</td>\n",
       "      <td>473304.0</td>\n",
       "      <td>2016.0</td>\n",
       "      <td>272644.0</td>\n",
       "      <td>5682.71</td>\n",
       "      <td>6.037143e+13</td>\n",
       "      <td>0.009975</td>\n",
       "      <td>2017-03-06</td>\n",
       "      <td>Central</td>\n",
       "      <td>Condominium</td>\n",
       "    </tr>\n",
       "    <tr>\n",
       "      <th>27632</th>\n",
       "      <td>1643700</td>\n",
       "      <td>11181835</td>\n",
       "      <td>2.0</td>\n",
       "      <td>3.0</td>\n",
       "      <td>4.0</td>\n",
       "      <td>2.0</td>\n",
       "      <td>1370.0</td>\n",
       "      <td>1370.0</td>\n",
       "      <td>6037.0</td>\n",
       "      <td>2.0</td>\n",
       "      <td>...</td>\n",
       "      <td>43628.0</td>\n",
       "      <td>66954.0</td>\n",
       "      <td>2016.0</td>\n",
       "      <td>23326.0</td>\n",
       "      <td>918.71</td>\n",
       "      <td>6.037910e+13</td>\n",
       "      <td>0.010471</td>\n",
       "      <td>2017-04-19</td>\n",
       "      <td>Central</td>\n",
       "      <td>Single Family Residential</td>\n",
       "    </tr>\n",
       "  </tbody>\n",
       "</table>\n",
       "<p>5 rows × 34 columns</p>\n",
       "</div>"
      ],
      "text/plain": [
       "            id  parcelid  bathroomcnt  bedroomcnt  buildingqualitytypeid  \\\n",
       "62924  2806823  11317340          2.0         4.0                    6.0   \n",
       "2686   2192094  12965175          4.0         3.0                    8.0   \n",
       "35780    64334  11703478          1.0         3.0                    6.0   \n",
       "14782  1744938  10931831          3.0         2.0                    8.0   \n",
       "27632  1643700  11181835          2.0         3.0                    4.0   \n",
       "\n",
       "       calculatedbathnbr  calculatedfinishedsquarefeet  finishedsquarefeet12  \\\n",
       "62924                2.0                        1860.0                1860.0   \n",
       "2686                 4.0                        1910.0                1910.0   \n",
       "35780                1.0                        1822.0                1822.0   \n",
       "14782                3.0                        1480.0                1480.0   \n",
       "27632                2.0                        1370.0                1370.0   \n",
       "\n",
       "         fips  fullbathcnt  ...  structuretaxvaluedollarcnt  \\\n",
       "62924  6037.0          2.0  ...                    127127.0   \n",
       "2686   6037.0          4.0  ...                    253705.0   \n",
       "35780  6037.0          1.0  ...                     17787.0   \n",
       "14782  6037.0          3.0  ...                    200660.0   \n",
       "27632  6037.0          2.0  ...                     43628.0   \n",
       "\n",
       "       taxvaluedollarcnt  assessmentyear  landtaxvaluedollarcnt taxamount  \\\n",
       "62924           157578.0          2016.0                30451.0   2755.87   \n",
       "2686            667918.0          2016.0               414213.0   8704.21   \n",
       "35780            40542.0          2016.0                22755.0    627.91   \n",
       "14782           473304.0          2016.0               272644.0   5682.71   \n",
       "27632            66954.0          2016.0                23326.0    918.71   \n",
       "\n",
       "       censustractandblock  logerror  transactiondate  heatingorsystemdesc  \\\n",
       "62924         6.037901e+13  0.030870       2017-08-01              Central   \n",
       "2686          6.037621e+13  0.021421       2017-01-12              Central   \n",
       "35780         6.037232e+13 -0.325563       2017-05-12              Central   \n",
       "14782         6.037143e+13  0.009975       2017-03-06              Central   \n",
       "27632         6.037910e+13  0.010471       2017-04-19              Central   \n",
       "\n",
       "             propertylandusedesc  \n",
       "62924  Single Family Residential  \n",
       "2686                 Condominium  \n",
       "35780  Single Family Residential  \n",
       "14782                Condominium  \n",
       "27632  Single Family Residential  \n",
       "\n",
       "[5 rows x 34 columns]"
      ]
     },
     "execution_count": 4,
     "metadata": {},
     "output_type": "execute_result"
    }
   ],
   "source": [
    "train.head()"
   ]
  },
  {
   "cell_type": "markdown",
   "id": "8790baec",
   "metadata": {},
   "source": [
    "## Exercise Instructions\n",
    "- Ask at least 5 questions about the data, keeping in mind that your target variable is logerror. e.g. Is logerror significantly different for properties in LA County vs Orange County vs Ventura County?\n",
    "- Answer those questions through a mix of statistical tests and visualizations."
   ]
  },
  {
   "cell_type": "markdown",
   "id": "36b5cabb",
   "metadata": {},
   "source": [
    "### Question 1: Is logerror significantly different for properties in LA County vs Orange County vs Ventura County?"
   ]
  },
  {
   "cell_type": "markdown",
   "id": "3e5395b9",
   "metadata": {},
   "source": [
    "#### Initial Setup"
   ]
  },
  {
   "cell_type": "code",
   "execution_count": 7,
   "id": "7ad557d3",
   "metadata": {},
   "outputs": [
    {
     "data": {
      "text/html": [
       "<div>\n",
       "<style scoped>\n",
       "    .dataframe tbody tr th:only-of-type {\n",
       "        vertical-align: middle;\n",
       "    }\n",
       "\n",
       "    .dataframe tbody tr th {\n",
       "        vertical-align: top;\n",
       "    }\n",
       "\n",
       "    .dataframe thead th {\n",
       "        text-align: right;\n",
       "    }\n",
       "</style>\n",
       "<table border=\"1\" class=\"dataframe\">\n",
       "  <thead>\n",
       "    <tr style=\"text-align: right;\">\n",
       "      <th></th>\n",
       "      <th>parcelid</th>\n",
       "      <th>logerror</th>\n",
       "      <th>fips</th>\n",
       "    </tr>\n",
       "  </thead>\n",
       "  <tbody>\n",
       "    <tr>\n",
       "      <th>62924</th>\n",
       "      <td>11317340</td>\n",
       "      <td>0.030870</td>\n",
       "      <td>6037.0</td>\n",
       "    </tr>\n",
       "    <tr>\n",
       "      <th>2686</th>\n",
       "      <td>12965175</td>\n",
       "      <td>0.021421</td>\n",
       "      <td>6037.0</td>\n",
       "    </tr>\n",
       "    <tr>\n",
       "      <th>35780</th>\n",
       "      <td>11703478</td>\n",
       "      <td>-0.325563</td>\n",
       "      <td>6037.0</td>\n",
       "    </tr>\n",
       "    <tr>\n",
       "      <th>14782</th>\n",
       "      <td>10931831</td>\n",
       "      <td>0.009975</td>\n",
       "      <td>6037.0</td>\n",
       "    </tr>\n",
       "    <tr>\n",
       "      <th>27632</th>\n",
       "      <td>11181835</td>\n",
       "      <td>0.010471</td>\n",
       "      <td>6037.0</td>\n",
       "    </tr>\n",
       "  </tbody>\n",
       "</table>\n",
       "</div>"
      ],
      "text/plain": [
       "       parcelid  logerror    fips\n",
       "62924  11317340  0.030870  6037.0\n",
       "2686   12965175  0.021421  6037.0\n",
       "35780  11703478 -0.325563  6037.0\n",
       "14782  10931831  0.009975  6037.0\n",
       "27632  11181835  0.010471  6037.0"
      ]
     },
     "execution_count": 7,
     "metadata": {},
     "output_type": "execute_result"
    }
   ],
   "source": [
    "# Creating data frame with just necessary columns \n",
    "logerror_df = train[['parcelid', 'logerror', 'fips']].copy()\n",
    "logerror_df.head()"
   ]
  },
  {
   "cell_type": "code",
   "execution_count": 14,
   "id": "82c34f8d",
   "metadata": {},
   "outputs": [
    {
     "data": {
      "text/html": [
       "<div>\n",
       "<style scoped>\n",
       "    .dataframe tbody tr th:only-of-type {\n",
       "        vertical-align: middle;\n",
       "    }\n",
       "\n",
       "    .dataframe tbody tr th {\n",
       "        vertical-align: top;\n",
       "    }\n",
       "\n",
       "    .dataframe thead th {\n",
       "        text-align: right;\n",
       "    }\n",
       "</style>\n",
       "<table border=\"1\" class=\"dataframe\">\n",
       "  <thead>\n",
       "    <tr style=\"text-align: right;\">\n",
       "      <th></th>\n",
       "      <th>parcelid</th>\n",
       "      <th>logerror</th>\n",
       "      <th>fips</th>\n",
       "      <th>county</th>\n",
       "    </tr>\n",
       "  </thead>\n",
       "  <tbody>\n",
       "    <tr>\n",
       "      <th>62924</th>\n",
       "      <td>11317340</td>\n",
       "      <td>0.030870</td>\n",
       "      <td>6037.0</td>\n",
       "      <td>Los Angeles</td>\n",
       "    </tr>\n",
       "    <tr>\n",
       "      <th>2686</th>\n",
       "      <td>12965175</td>\n",
       "      <td>0.021421</td>\n",
       "      <td>6037.0</td>\n",
       "      <td>Los Angeles</td>\n",
       "    </tr>\n",
       "    <tr>\n",
       "      <th>35780</th>\n",
       "      <td>11703478</td>\n",
       "      <td>-0.325563</td>\n",
       "      <td>6037.0</td>\n",
       "      <td>Los Angeles</td>\n",
       "    </tr>\n",
       "    <tr>\n",
       "      <th>14782</th>\n",
       "      <td>10931831</td>\n",
       "      <td>0.009975</td>\n",
       "      <td>6037.0</td>\n",
       "      <td>Los Angeles</td>\n",
       "    </tr>\n",
       "    <tr>\n",
       "      <th>27632</th>\n",
       "      <td>11181835</td>\n",
       "      <td>0.010471</td>\n",
       "      <td>6037.0</td>\n",
       "      <td>Los Angeles</td>\n",
       "    </tr>\n",
       "  </tbody>\n",
       "</table>\n",
       "</div>"
      ],
      "text/plain": [
       "       parcelid  logerror    fips       county\n",
       "62924  11317340  0.030870  6037.0  Los Angeles\n",
       "2686   12965175  0.021421  6037.0  Los Angeles\n",
       "35780  11703478 -0.325563  6037.0  Los Angeles\n",
       "14782  10931831  0.009975  6037.0  Los Angeles\n",
       "27632  11181835  0.010471  6037.0  Los Angeles"
      ]
     },
     "execution_count": 14,
     "metadata": {},
     "output_type": "execute_result"
    }
   ],
   "source": [
    "# Creating a new county column using fips values \n",
    "counties = {6037:'Los Angeles', 6059:'Orange', 6111:'Ventura'}\n",
    "logerror_df['county'] = logerror_df.fips.map(counties)\n",
    "logerror_df.head()"
   ]
  },
  {
   "cell_type": "code",
   "execution_count": 26,
   "id": "7dd78e70",
   "metadata": {},
   "outputs": [
    {
     "data": {
      "text/plain": [
       "<AxesSubplot:xlabel='county', ylabel='logerror'>"
      ]
     },
     "execution_count": 26,
     "metadata": {},
     "output_type": "execute_result"
    },
    {
     "data": {
      "image/png": "[encoded data removed]",
      "text/plain": [
       "<Figure size 432x288 with 1 Axes>"
      ]
     },
     "metadata": {
      "needs_background": "light"
     },
     "output_type": "display_data"
    }
   ],
   "source": [
    "# Comparae logerror by county\n",
    "sns.boxplot(data = logerror_df, x='county', y='logerror')"
   ]
  },
  {
   "cell_type": "code",
   "execution_count": 27,
   "id": "c2e1def9",
   "metadata": {},
   "outputs": [
    {
     "data": {
      "text/plain": [
       "<AxesSubplot:xlabel='county', ylabel='logerror'>"
      ]
     },
     "execution_count": 27,
     "metadata": {},
     "output_type": "execute_result"
    },
    {
     "data": {
      "image/png": "[encoded data removed]",
      "text/plain": [
       "<Figure size 432x288 with 1 Axes>"
      ]
     },
     "metadata": {
      "needs_background": "light"
     },
     "output_type": "display_data"
    }
   ],
   "source": [
    "# Data is highly skewed so I will create quantile to compare using only the inner quantiles\n",
    "## Determine quantiles\n",
    "q1, q3 = logerror_df.logerror.quantile([.25, .75])\n",
    "\n",
    "#plot boxplots to compare\n",
    "sns.boxplot(data=logerror_df[(logerror_df.logerror > q1) & (logerror_df.logerror < q3)], x='county', y='logerror')"
   ]
  },
  {
   "cell_type": "code",
   "execution_count": 28,
   "id": "065297a0",
   "metadata": {},
   "outputs": [],
   "source": [
    "# Set up variables for the county logerrors\n",
    "la = logerror_df[logerror_df.county == 'Los Angeles']\n",
    "orange = logerror_df[logerror_df.county == 'Orange']\n",
    "ventura = logerror_df[logerror_df.county == 'Ventura']"
   ]
  },
  {
   "cell_type": "markdown",
   "id": "15060dd9",
   "metadata": {},
   "source": [
    "**I want to compare county logerorr mean to population mean but I don't have normal distribution so I will use non-parametric test. (Mann-whitney's)**"
   ]
  },
  {
   "cell_type": "markdown",
   "id": "1e140b4e",
   "metadata": {},
   "source": [
    "### Los Angeles logerror vs. population logerror? \n",
    "\n",
    "$H0$: There is no significant difference between the county logerror and the total population logerror.\n",
    "\n",
    "$Ha$: There is a signifcant difference between the county logerror and the total population logerror."
   ]
  },
  {
   "cell_type": "code",
   "execution_count": 21,
   "id": "62015e8a",
   "metadata": {},
   "outputs": [
    {
     "name": "stdout",
     "output_type": "stream",
     "text": [
      "We fail to reject the null hypothesis. There is a significant difference.\n"
     ]
    }
   ],
   "source": [
    "alpha = .05 / 2\n",
    "t, p = stats.mannwhitneyu(la.logerror, logerror_df.logerror, alternative='two-sided')\n",
    "\n",
    "if p < alpha:\n",
    "    print('We reject the null hypothesis with 95% confidence.')\n",
    "else:\n",
    "    print('We fail to reject the null hypothesis. There is a significant difference.')"
   ]
  },
  {
   "cell_type": "markdown",
   "id": "ed61997f",
   "metadata": {},
   "source": [
    "### Orange logerror vs. population logerror? \n",
    "\n",
    "$H0$: There is no significant difference between the county logerror and the total population logerror.\n",
    "\n",
    "$Ha$: There is a signifcant difference between the county logerror and the total population logerror."
   ]
  },
  {
   "cell_type": "code",
   "execution_count": 23,
   "id": "aba250c4",
   "metadata": {},
   "outputs": [
    {
     "name": "stdout",
     "output_type": "stream",
     "text": [
      "We fail to reject the null hypothesis. There is a significant difference.\n"
     ]
    }
   ],
   "source": [
    "alpha = .05 / 2\n",
    "t, p = stats.mannwhitneyu(orange.logerror, logerror_df.logerror, alternative='two-sided')\n",
    "\n",
    "if p < alpha:\n",
    "    print('We reject the null hypothesis with 95% confidence.')\n",
    "else:\n",
    "    print('We fail to reject the null hypothesis. There is a significant difference.')"
   ]
  },
  {
   "cell_type": "markdown",
   "id": "974c0b86",
   "metadata": {},
   "source": [
    "### Ventura logerror vs. population logerror? \n",
    "\n",
    "$H0$: There is no significant difference between the county logerror and the total population logerror.\n",
    "\n",
    "$Ha$: There is a signifcant difference between the county logerror and the total population logerror."
   ]
  },
  {
   "cell_type": "code",
   "execution_count": 24,
   "id": "e9f394da",
   "metadata": {},
   "outputs": [
    {
     "name": "stdout",
     "output_type": "stream",
     "text": [
      "We fail to reject the null hypothesis. There is a significant difference.\n"
     ]
    }
   ],
   "source": [
    "alpha = .05 / 2\n",
    "t, p = stats.mannwhitneyu(ventura.logerror, logerror_df.logerror, alternative='two-sided')\n",
    "\n",
    "if p < alpha:\n",
    "    print('We reject the null hypothesis with 95% confidence.')\n",
    "else:\n",
    "    print('We fail to reject the null hypothesis. There is a significant difference.')"
   ]
  },
  {
   "cell_type": "markdown",
   "id": "07b7f14b",
   "metadata": {},
   "source": [
    "## Question 2: Is logerror significantly different per age of the home?"
   ]
  },
  {
   "cell_type": "code",
   "execution_count": 35,
   "id": "71ef7f31",
   "metadata": {},
   "outputs": [
    {
     "name": "stdout",
     "output_type": "stream",
     "text": [
      "<class 'pandas.core.frame.DataFrame'>\n",
      "Int64Index: 40064 entries, 62924 to 59940\n",
      "Data columns (total 34 columns):\n",
      " #   Column                        Non-Null Count  Dtype  \n",
      "---  ------                        --------------  -----  \n",
      " 0   id                            40064 non-null  int64  \n",
      " 1   parcelid                      40064 non-null  int64  \n",
      " 2   bathroomcnt                   40064 non-null  float64\n",
      " 3   bedroomcnt                    40064 non-null  float64\n",
      " 4   buildingqualitytypeid         24997 non-null  float64\n",
      " 5   calculatedbathnbr             40064 non-null  float64\n",
      " 6   calculatedfinishedsquarefeet  40064 non-null  float64\n",
      " 7   finishedsquarefeet12          40064 non-null  float64\n",
      " 8   fips                          40064 non-null  float64\n",
      " 9   fullbathcnt                   40064 non-null  float64\n",
      " 10  heatingorsystemtypeid         25964 non-null  float64\n",
      " 11  latitude                      40064 non-null  float64\n",
      " 12  longitude                     40064 non-null  float64\n",
      " 13  lotsizesquarefeet             35510 non-null  float64\n",
      " 14  propertycountylandusecode     40064 non-null  object \n",
      " 15  propertylandusetypeid         40064 non-null  float64\n",
      " 16  propertyzoningdesc            25215 non-null  object \n",
      " 17  rawcensustractandblock        40064 non-null  float64\n",
      " 18  regionidcity                  40064 non-null  float64\n",
      " 19  regionidcounty                40064 non-null  float64\n",
      " 20  regionidzip                   40064 non-null  float64\n",
      " 21  roomcnt                       40064 non-null  float64\n",
      " 22  unitcnt                       25218 non-null  float64\n",
      " 23  yearbuilt                     40064 non-null  float64\n",
      " 24  structuretaxvaluedollarcnt    40064 non-null  float64\n",
      " 25  taxvaluedollarcnt             40064 non-null  float64\n",
      " 26  assessmentyear                40064 non-null  float64\n",
      " 27  landtaxvaluedollarcnt         40064 non-null  float64\n",
      " 28  taxamount                     40064 non-null  float64\n",
      " 29  censustractandblock           40064 non-null  float64\n",
      " 30  logerror                      40064 non-null  float64\n",
      " 31  transactiondate               40064 non-null  object \n",
      " 32  heatingorsystemdesc           25964 non-null  object \n",
      " 33  propertylandusedesc           40064 non-null  object \n",
      "dtypes: float64(27), int64(2), object(5)\n",
      "memory usage: 11.7+ MB\n"
     ]
    }
   ],
   "source": [
    "train.info()"
   ]
  },
  {
   "cell_type": "code",
   "execution_count": 37,
   "id": "b4d83d49",
   "metadata": {},
   "outputs": [
    {
     "data": {
      "text/plain": [
       "<AxesSubplot:>"
      ]
     },
     "execution_count": 37,
     "metadata": {},
     "output_type": "execute_result"
    },
    {
     "data": {
      "image/png": "[encoded data removed]",
      "text/plain": [
       "<Figure size 432x288 with 1 Axes>"
      ]
     },
     "metadata": {
      "needs_background": "light"
     },
     "output_type": "display_data"
    }
   ],
   "source": [
    "## Create a new column with a calculate age of the home using the year_built column\n",
    "train.yearbuilt.hist()"
   ]
  },
  {
   "cell_type": "code",
   "execution_count": 38,
   "id": "ffc0ec8b",
   "metadata": {},
   "outputs": [
    {
     "data": {
      "text/plain": [
       "2016.0"
      ]
     },
     "execution_count": 38,
     "metadata": {},
     "output_type": "execute_result"
    }
   ],
   "source": [
    "train.yearbuilt.max()"
   ]
  },
  {
   "cell_type": "code",
   "execution_count": 41,
   "id": "255e9cc2",
   "metadata": {},
   "outputs": [
    {
     "data": {
      "text/html": [
       "<div>\n",
       "<style scoped>\n",
       "    .dataframe tbody tr th:only-of-type {\n",
       "        vertical-align: middle;\n",
       "    }\n",
       "\n",
       "    .dataframe tbody tr th {\n",
       "        vertical-align: top;\n",
       "    }\n",
       "\n",
       "    .dataframe thead th {\n",
       "        text-align: right;\n",
       "    }\n",
       "</style>\n",
       "<table border=\"1\" class=\"dataframe\">\n",
       "  <thead>\n",
       "    <tr style=\"text-align: right;\">\n",
       "      <th></th>\n",
       "      <th>id</th>\n",
       "      <th>parcelid</th>\n",
       "      <th>bathroomcnt</th>\n",
       "      <th>bedroomcnt</th>\n",
       "      <th>buildingqualitytypeid</th>\n",
       "      <th>calculatedbathnbr</th>\n",
       "      <th>calculatedfinishedsquarefeet</th>\n",
       "      <th>finishedsquarefeet12</th>\n",
       "      <th>fips</th>\n",
       "      <th>fullbathcnt</th>\n",
       "      <th>...</th>\n",
       "      <th>taxvaluedollarcnt</th>\n",
       "      <th>assessmentyear</th>\n",
       "      <th>landtaxvaluedollarcnt</th>\n",
       "      <th>taxamount</th>\n",
       "      <th>censustractandblock</th>\n",
       "      <th>logerror</th>\n",
       "      <th>transactiondate</th>\n",
       "      <th>heatingorsystemdesc</th>\n",
       "      <th>propertylandusedesc</th>\n",
       "      <th>age</th>\n",
       "    </tr>\n",
       "  </thead>\n",
       "  <tbody>\n",
       "    <tr>\n",
       "      <th>62924</th>\n",
       "      <td>2806823</td>\n",
       "      <td>11317340</td>\n",
       "      <td>2.0</td>\n",
       "      <td>4.0</td>\n",
       "      <td>6.0</td>\n",
       "      <td>2.0</td>\n",
       "      <td>1860.0</td>\n",
       "      <td>1860.0</td>\n",
       "      <td>6037.0</td>\n",
       "      <td>2.0</td>\n",
       "      <td>...</td>\n",
       "      <td>157578.0</td>\n",
       "      <td>2016.0</td>\n",
       "      <td>30451.0</td>\n",
       "      <td>2755.87</td>\n",
       "      <td>6.037901e+13</td>\n",
       "      <td>0.030870</td>\n",
       "      <td>2017-08-01</td>\n",
       "      <td>Central</td>\n",
       "      <td>Single Family Residential</td>\n",
       "      <td>18.0</td>\n",
       "    </tr>\n",
       "    <tr>\n",
       "      <th>2686</th>\n",
       "      <td>2192094</td>\n",
       "      <td>12965175</td>\n",
       "      <td>4.0</td>\n",
       "      <td>3.0</td>\n",
       "      <td>8.0</td>\n",
       "      <td>4.0</td>\n",
       "      <td>1910.0</td>\n",
       "      <td>1910.0</td>\n",
       "      <td>6037.0</td>\n",
       "      <td>4.0</td>\n",
       "      <td>...</td>\n",
       "      <td>667918.0</td>\n",
       "      <td>2016.0</td>\n",
       "      <td>414213.0</td>\n",
       "      <td>8704.21</td>\n",
       "      <td>6.037621e+13</td>\n",
       "      <td>0.021421</td>\n",
       "      <td>2017-01-12</td>\n",
       "      <td>Central</td>\n",
       "      <td>Condominium</td>\n",
       "      <td>2.0</td>\n",
       "    </tr>\n",
       "    <tr>\n",
       "      <th>35780</th>\n",
       "      <td>64334</td>\n",
       "      <td>11703478</td>\n",
       "      <td>1.0</td>\n",
       "      <td>3.0</td>\n",
       "      <td>6.0</td>\n",
       "      <td>1.0</td>\n",
       "      <td>1822.0</td>\n",
       "      <td>1822.0</td>\n",
       "      <td>6037.0</td>\n",
       "      <td>1.0</td>\n",
       "      <td>...</td>\n",
       "      <td>40542.0</td>\n",
       "      <td>2016.0</td>\n",
       "      <td>22755.0</td>\n",
       "      <td>627.91</td>\n",
       "      <td>6.037232e+13</td>\n",
       "      <td>-0.325563</td>\n",
       "      <td>2017-05-12</td>\n",
       "      <td>Central</td>\n",
       "      <td>Single Family Residential</td>\n",
       "      <td>104.0</td>\n",
       "    </tr>\n",
       "    <tr>\n",
       "      <th>14782</th>\n",
       "      <td>1744938</td>\n",
       "      <td>10931831</td>\n",
       "      <td>3.0</td>\n",
       "      <td>2.0</td>\n",
       "      <td>8.0</td>\n",
       "      <td>3.0</td>\n",
       "      <td>1480.0</td>\n",
       "      <td>1480.0</td>\n",
       "      <td>6037.0</td>\n",
       "      <td>3.0</td>\n",
       "      <td>...</td>\n",
       "      <td>473304.0</td>\n",
       "      <td>2016.0</td>\n",
       "      <td>272644.0</td>\n",
       "      <td>5682.71</td>\n",
       "      <td>6.037143e+13</td>\n",
       "      <td>0.009975</td>\n",
       "      <td>2017-03-06</td>\n",
       "      <td>Central</td>\n",
       "      <td>Condominium</td>\n",
       "      <td>6.0</td>\n",
       "    </tr>\n",
       "    <tr>\n",
       "      <th>27632</th>\n",
       "      <td>1643700</td>\n",
       "      <td>11181835</td>\n",
       "      <td>2.0</td>\n",
       "      <td>3.0</td>\n",
       "      <td>4.0</td>\n",
       "      <td>2.0</td>\n",
       "      <td>1370.0</td>\n",
       "      <td>1370.0</td>\n",
       "      <td>6037.0</td>\n",
       "      <td>2.0</td>\n",
       "      <td>...</td>\n",
       "      <td>66954.0</td>\n",
       "      <td>2016.0</td>\n",
       "      <td>23326.0</td>\n",
       "      <td>918.71</td>\n",
       "      <td>6.037910e+13</td>\n",
       "      <td>0.010471</td>\n",
       "      <td>2017-04-19</td>\n",
       "      <td>Central</td>\n",
       "      <td>Single Family Residential</td>\n",
       "      <td>62.0</td>\n",
       "    </tr>\n",
       "  </tbody>\n",
       "</table>\n",
       "<p>5 rows × 35 columns</p>\n",
       "</div>"
      ],
      "text/plain": [
       "            id  parcelid  bathroomcnt  bedroomcnt  buildingqualitytypeid  \\\n",
       "62924  2806823  11317340          2.0         4.0                    6.0   \n",
       "2686   2192094  12965175          4.0         3.0                    8.0   \n",
       "35780    64334  11703478          1.0         3.0                    6.0   \n",
       "14782  1744938  10931831          3.0         2.0                    8.0   \n",
       "27632  1643700  11181835          2.0         3.0                    4.0   \n",
       "\n",
       "       calculatedbathnbr  calculatedfinishedsquarefeet  finishedsquarefeet12  \\\n",
       "62924                2.0                        1860.0                1860.0   \n",
       "2686                 4.0                        1910.0                1910.0   \n",
       "35780                1.0                        1822.0                1822.0   \n",
       "14782                3.0                        1480.0                1480.0   \n",
       "27632                2.0                        1370.0                1370.0   \n",
       "\n",
       "         fips  fullbathcnt  ...  taxvaluedollarcnt  assessmentyear  \\\n",
       "62924  6037.0          2.0  ...           157578.0          2016.0   \n",
       "2686   6037.0          4.0  ...           667918.0          2016.0   \n",
       "35780  6037.0          1.0  ...            40542.0          2016.0   \n",
       "14782  6037.0          3.0  ...           473304.0          2016.0   \n",
       "27632  6037.0          2.0  ...            66954.0          2016.0   \n",
       "\n",
       "       landtaxvaluedollarcnt  taxamount censustractandblock  logerror  \\\n",
       "62924                30451.0    2755.87        6.037901e+13  0.030870   \n",
       "2686                414213.0    8704.21        6.037621e+13  0.021421   \n",
       "35780                22755.0     627.91        6.037232e+13 -0.325563   \n",
       "14782               272644.0    5682.71        6.037143e+13  0.009975   \n",
       "27632                23326.0     918.71        6.037910e+13  0.010471   \n",
       "\n",
       "      transactiondate  heatingorsystemdesc        propertylandusedesc    age  \n",
       "62924      2017-08-01              Central  Single Family Residential   18.0  \n",
       "2686       2017-01-12              Central                Condominium    2.0  \n",
       "35780      2017-05-12              Central  Single Family Residential  104.0  \n",
       "14782      2017-03-06              Central                Condominium    6.0  \n",
       "27632      2017-04-19              Central  Single Family Residential   62.0  \n",
       "\n",
       "[5 rows x 35 columns]"
      ]
     },
     "execution_count": 41,
     "metadata": {},
     "output_type": "execute_result"
    }
   ],
   "source": [
    "## Create a new column with a calculate age of the home using the year_built column\n",
    "train['age'] = train.yearbuilt.max() - train.yearbuilt\n",
    "train.head()"
   ]
  },
  {
   "cell_type": "code",
   "execution_count": 42,
   "id": "fc0466ca",
   "metadata": {},
   "outputs": [
    {
     "data": {
      "text/html": [
       "<div>\n",
       "<style scoped>\n",
       "    .dataframe tbody tr th:only-of-type {\n",
       "        vertical-align: middle;\n",
       "    }\n",
       "\n",
       "    .dataframe tbody tr th {\n",
       "        vertical-align: top;\n",
       "    }\n",
       "\n",
       "    .dataframe thead th {\n",
       "        text-align: right;\n",
       "    }\n",
       "</style>\n",
       "<table border=\"1\" class=\"dataframe\">\n",
       "  <thead>\n",
       "    <tr style=\"text-align: right;\">\n",
       "      <th></th>\n",
       "      <th>yearbuilt</th>\n",
       "      <th>age</th>\n",
       "      <th>logerror</th>\n",
       "    </tr>\n",
       "  </thead>\n",
       "  <tbody>\n",
       "    <tr>\n",
       "      <th>62924</th>\n",
       "      <td>1998.0</td>\n",
       "      <td>18.0</td>\n",
       "      <td>0.030870</td>\n",
       "    </tr>\n",
       "    <tr>\n",
       "      <th>2686</th>\n",
       "      <td>2014.0</td>\n",
       "      <td>2.0</td>\n",
       "      <td>0.021421</td>\n",
       "    </tr>\n",
       "    <tr>\n",
       "      <th>35780</th>\n",
       "      <td>1912.0</td>\n",
       "      <td>104.0</td>\n",
       "      <td>-0.325563</td>\n",
       "    </tr>\n",
       "    <tr>\n",
       "      <th>14782</th>\n",
       "      <td>2010.0</td>\n",
       "      <td>6.0</td>\n",
       "      <td>0.009975</td>\n",
       "    </tr>\n",
       "    <tr>\n",
       "      <th>27632</th>\n",
       "      <td>1954.0</td>\n",
       "      <td>62.0</td>\n",
       "      <td>0.010471</td>\n",
       "    </tr>\n",
       "  </tbody>\n",
       "</table>\n",
       "</div>"
      ],
      "text/plain": [
       "       yearbuilt    age  logerror\n",
       "62924     1998.0   18.0  0.030870\n",
       "2686      2014.0    2.0  0.021421\n",
       "35780     1912.0  104.0 -0.325563\n",
       "14782     2010.0    6.0  0.009975\n",
       "27632     1954.0   62.0  0.010471"
      ]
     },
     "execution_count": 42,
     "metadata": {},
     "output_type": "execute_result"
    }
   ],
   "source": [
    "# Create dataframe with just year data and logerror\n",
    "age_df = train.copy()\n",
    "age_df = age_df[['yearbuilt', 'age', 'logerror']]\n",
    "age_df.head()"
   ]
  },
  {
   "cell_type": "code",
   "execution_count": 48,
   "id": "08d88719",
   "metadata": {},
   "outputs": [
    {
     "data": {
      "image/png": "[encoded data removed]",
      "text/plain": [
       "<Figure size 360x360 with 1 Axes>"
      ]
     },
     "metadata": {
      "needs_background": "light"
     },
     "output_type": "display_data"
    }
   ],
   "source": [
    "sns.lmplot(data = age_df, x='age', y='logerror', line_kws={'color':'red'})\n",
    "plt.show()"
   ]
  },
  {
   "cell_type": "code",
   "execution_count": 49,
   "id": "8f1c395e",
   "metadata": {},
   "outputs": [
    {
     "data": {
      "text/plain": [
       "<seaborn.axisgrid.FacetGrid at 0x7f8991fc5490>"
      ]
     },
     "execution_count": 49,
     "metadata": {},
     "output_type": "execute_result"
    },
    {
     "data": {
      "image/png": "[encoded data removed]",
      "text/plain": [
       "<Figure size 360x360 with 1 Axes>"
      ]
     },
     "metadata": {
      "needs_background": "light"
     },
     "output_type": "display_data"
    }
   ],
   "source": [
    "sns.relplot(data=age_df, x='age', y='logerror')"
   ]
  },
  {
   "cell_type": "code",
   "execution_count": null,
   "id": "e147ca49",
   "metadata": {},
   "outputs": [],
   "source": []
  }
 ],
 "metadata": {
  "kernelspec": {
   "display_name": "Python 3.9.7 64-bit ('base': conda)",
   "language": "python",
   "name": "python397jvsc74a57bd038cca0c38332a56087b24af0bc80247f4fced29cb4f7f437d91dc159adec9c4e"
  },
  "language_info": {
   "codemirror_mode": {
    "name": "ipython",
    "version": 3
   },
   "file_extension": ".py",
   "mimetype": "text/x-python",
   "name": "python",
   "nbconvert_exporter": "python",
   "pygments_lexer": "ipython3",
   "version": "3.9.7"
  }
 },
 "nbformat": 4,
 "nbformat_minor": 5
}
